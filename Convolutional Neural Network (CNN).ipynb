{
 "cells": [
  {
   "cell_type": "markdown",
   "id": "4fa08a17",
   "metadata": {},
   "source": [
    "# Convolutional Neural Networks (CNN)"
   ]
  },
  {
   "cell_type": "code",
   "execution_count": 3,
   "id": "05477077",
   "metadata": {},
   "outputs": [],
   "source": [
    "import os\n",
    "import cv2\n",
    "import numpy as np\n",
    "from tqdm import tqdm\n",
    "import pickle"
   ]
  },
  {
   "cell_type": "code",
   "execution_count": 2,
   "id": "e5204087",
   "metadata": {},
   "outputs": [
    {
     "name": "stdout",
     "output_type": "stream",
     "text": [
      "C:/Users/user/Downloads/Timmtet/Projects/Deep learning/CNN/kagglecatsanddogs_5340/PetImages/Cat\n"
     ]
    },
    {
     "name": "stderr",
     "output_type": "stream",
     "text": [
      " 30%|██████████████████████▉                                                      | 3716/12501 [00:53<02:06, 69.40it/s]\n",
      "\n",
      "KeyboardInterrupt\n",
      "\n"
     ]
    }
   ],
   "source": [
    "REBUILD_DATA = True\n",
    "\n",
    "class DogsVSCats():\n",
    "    img_size = 50\n",
    "    cats = \"C:/Users/user/Downloads/Timmtet/Projects/Deep learning/CNN/kagglecatsanddogs_5340/PetImages/Cat\"\n",
    "    dogs = \"C:/Users/user/Downloads/Timmtet/Projects/Deep learning/CNN/kagglecatsanddogs_5340/PetImages/Dog\"\n",
    "    labels = {cats : 0, dogs:1}\n",
    "    training_data = []\n",
    "    cat_count = 0\n",
    "    dog_count = 0\n",
    "    \n",
    "    \n",
    "    def making_training_data(self):\n",
    "        for label in self.labels:\n",
    "            print(label)\n",
    "            for f in tqdm(os.listdir(label)):\n",
    "                try:\n",
    "                    path = os.path.join(label,f)\n",
    "                    img = cv2.imread(path, cv2.IMREAD_GRAYSCALE)\n",
    "                    img = cv2.resize(img, (self.img_size, self.img_size))\n",
    "                    self.training_data.append([np.array(img), np.eye(2)[self.labels[label]]])\n",
    "                    #self.training_data.append([np.array(img), self.labels[label]])\n",
    "\n",
    "                    if label == self.cats:\n",
    "                        self.cat_count +=1\n",
    "                    elif label == self.dogs:\n",
    "                        self.dog_count +=1\n",
    "                        \n",
    "                except Exception as e:\n",
    "                    pass\n",
    "                \n",
    "        np.random.shuffle(self.training_data)\n",
    "        #np.save(\"training_data.npy\", self.training_data)\n",
    "        with open(\"training_data.pkl\", \"wb\") as f:\n",
    "            pickle.dump(self.training_data, f)\n",
    "        \n",
    "        print(\"Cats: \", self.cat_count)\n",
    "        print(\"Dogs: \", self.dog_count)\n",
    "        \n",
    "if REBUILD_DATA:\n",
    "    dogsvcats = DogsVSCats()\n",
    "    dogsvcats.making_training_data()"
   ]
  },
  {
   "cell_type": "raw",
   "id": "2d81013e",
   "metadata": {},
   "source": [
    "REBUILD_DATA = True\n",
    "\n",
    "class DogsVSCats():\n",
    "    img_size = 50\n",
    "    cats = \"C:/Users/user/Downloads/Timmtet/Projects/Deep learning/CNN/kagglecatsanddogs_5340/PetImages/Cat\"\n",
    "    dogs = \"C:/Users/user/Downloads/Timmtet/Projects/Deep learning/CNN/kagglecatsanddogs_5340/PetImages/Dog\"\n",
    "    labels = {cats: 0, dogs: 1}\n",
    "    training_data = []\n",
    "    cat_count = 0\n",
    "    dog_count = 0\n",
    "    \n",
    "    def making_training_data(self):\n",
    "        for label in self.labels:\n",
    "            print(label)\n",
    "            for f in tqdm(os.listdir(label)):\n",
    "                try:\n",
    "                    path = os.path.join(label, f)\n",
    "                    img = cv2.imread(path, cv2.IMREAD_GRAYSCALE)\n",
    "                    img = cv2.resize(img, (self.img_size, self.img_size))\n",
    "                    self.training_data.append([np.array(img), self.labels[label]])\n",
    "\n",
    "                    if label == self.cats:\n",
    "                        self.cat_count += 1\n",
    "                    elif label == self.dogs:\n",
    "                        self.dog_count += 1\n",
    "\n",
    "                except Exception as e:\n",
    "                    pass\n",
    "                \n",
    "        np.random.shuffle(self.training_data)\n",
    "        images = np.array([item[0] for item in self.training_data], dtype=np.float32)\n",
    "        labels = np.array([item[1] for item in self.training_data], dtype=np.int64)\n",
    "        np.save('images.npy', images)\n",
    "        np.save('labels.npy', labels)\n",
    "        \n",
    "        print(\"Cats: \", self.cat_count)\n",
    "        print(\"Dogs: \", self.dog_count)\n",
    "        \n",
    "if REBUILD_DATA:\n",
    "    dogsvcats = DogsVSCats()\n",
    "    dogsvcats.making_training_data()\n"
   ]
  },
  {
   "cell_type": "raw",
   "id": "b7db6235",
   "metadata": {},
   "source": [
    "images = np.load('images.npy', allow_pickle = True)\n",
    "lables = np.load('labels.npy', allow_pickle = True)\n",
    "print(len(images))\n",
    "print(len(lables))"
   ]
  },
  {
   "cell_type": "code",
   "execution_count": 4,
   "id": "56296818",
   "metadata": {},
   "outputs": [
    {
     "name": "stdout",
     "output_type": "stream",
     "text": [
      "torch.Size([128, 2, 2])\n"
     ]
    }
   ],
   "source": [
    "import torch\n",
    "import torch.nn as nn\n",
    "import torch.nn.functional as F\n",
    "\n",
    "class Net(nn.Module):\n",
    "    def __init__(self):\n",
    "        super().__init__()\n",
    "        #(input, output, cornel size(5*5))\n",
    "        self.conv1 = nn.Conv2d(1,32, 5)\n",
    "        self.conv2 = nn.Conv2d(32,64, 5)\n",
    "        self.conv3 = nn.Conv2d(64,128, 5)\n",
    "        \n",
    "        \n",
    "        x = torch.randn(50,50).view(-1,1,50,50)\n",
    "        self._to_linear = None\n",
    "        self.convs(x)\n",
    "        \n",
    "        self.fc1 = nn.Linear(self._to_linear, 512)\n",
    "        self.fc2 = nn.Linear(512,2)\n",
    "        \n",
    "    def convs(self, x):\n",
    "        #(2,2) is the shape of the max pooling\n",
    "        x = F.max_pool2d(F.relu(self.conv1(x)), (2,2))\n",
    "        x = F.max_pool2d(F.relu(self.conv2(x)), (2,2))\n",
    "        x = F.max_pool2d(F.relu(self.conv3(x)), (2,2))\n",
    "        \n",
    "        \n",
    "        # This print statement will give us the shape of input for the dense/linear layer\n",
    "        print(x[0].shape)\n",
    "        \n",
    "        if self._to_linear is None:\n",
    "            self._to_linear = x[0].shape[0] * x[0].shape[1] * x[0].shape[2]\n",
    "        \n",
    "        return x\n",
    "    \n",
    "    def forward(self,x):\n",
    "        x = self.convs(x)                  # we pass x through all the convolutional layers\n",
    "        x =x.view(-1, self._to_linear )    # we flatten the output of the convolution layer. self._to_linear is the input shape of\n",
    "                                            # of the linear layer we are trying to linear year.\n",
    "        x = F.relu(self.fc1(x))\n",
    "        x = self.fc2(x)\n",
    "        \n",
    "        return F.softmax(x, dim=1)\n",
    "             \n",
    "net = Net() \n",
    "    \n",
    "        \n",
    "        \n",
    "        "
   ]
  },
  {
   "cell_type": "code",
   "execution_count": 5,
   "id": "0492bb57",
   "metadata": {},
   "outputs": [],
   "source": [
    "import torch\n",
    "import torch.nn as nn\n",
    "import torch.nn.functional as F\n",
    "\n",
    "class Net(nn.Module):\n",
    "    def __init__(self):\n",
    "        super().__init__()\n",
    "        #(input, output, cornel size(5*5))\n",
    "        self.conv1 = nn.Conv2d(1,32, 5)\n",
    "        self.conv2 = nn.Conv2d(32,64, 5)\n",
    "        self.conv3 = nn.Conv2d(64,128, 5)\n",
    "        \n",
    "        self.fc1 = nn.Linear(2*2*128, 512)\n",
    "        self.fc2 = nn.Linear(512,2)\n",
    "        \n",
    "    def convs(self, x):\n",
    "        #(2,2) is the shape of the max pooling\n",
    "        x = F.max_pool2d(F.relu(self.conv1(x)), (2,2))\n",
    "        x = F.max_pool2d(F.relu(self.conv2(x)), (2,2))\n",
    "        x = F.max_pool2d(F.relu(self.conv3(x)), (2,2))\n",
    "        \n",
    "        return x\n",
    "    \n",
    "    def forward(self,x):\n",
    "        x = self.convs(x)                  \n",
    "        x =x.view(-1,2*2*128)   \n",
    "        x = F.relu(self.fc1(x))\n",
    "        x = self.fc2(x)\n",
    "        \n",
    "        return F.softmax(x, dim=1)\n",
    "             \n",
    "net = Net() \n",
    "    \n",
    "        \n",
    "        \n",
    "        "
   ]
  },
  {
   "cell_type": "code",
   "execution_count": 6,
   "id": "91c6c5fa",
   "metadata": {},
   "outputs": [
    {
     "name": "stderr",
     "output_type": "stream",
     "text": [
      "C:\\Users\\user\\AppData\\Local\\Temp\\ipykernel_4232\\3472780919.py:9: UserWarning: Creating a tensor from a list of numpy.ndarrays is extremely slow. Please consider converting the list to a single numpy.ndarray with numpy.array() before converting to a tensor. (Triggered internally at ..\\torch\\csrc\\utils\\tensor_new.cpp:248.)\n",
      "  X  = torch.Tensor([i[0] for i in training_data]).view(-1,50,50)\n"
     ]
    },
    {
     "name": "stdout",
     "output_type": "stream",
     "text": [
      "2494\n"
     ]
    }
   ],
   "source": [
    "training_data = np.load(\"training_data.pkl\", allow_pickle=True)\n",
    "\n",
    "import torch.optim as optim\n",
    "\n",
    "optimizer = optim.Adam(net.parameters(), lr=0.001)\n",
    "\n",
    "loss_function = nn.MSELoss()\n",
    "\n",
    "X  = torch.Tensor([i[0] for i in training_data]).view(-1,50,50)\n",
    "X = X/225.0\n",
    "\n",
    "y  = torch.Tensor([i[1] for i in training_data])\n",
    "\n",
    "\n",
    "VAL_PCT = 0.1\n",
    "val_size = int(len(X)*VAL_PCT)\n",
    "print(val_size)"
   ]
  },
  {
   "cell_type": "code",
   "execution_count": 7,
   "id": "ad37d58a",
   "metadata": {},
   "outputs": [
    {
     "name": "stdout",
     "output_type": "stream",
     "text": [
      "22452\n",
      "22452\n",
      "2494\n",
      "2494\n"
     ]
    }
   ],
   "source": [
    "train_x = X[:-val_size]\n",
    "train_y = y[:-val_size]\n",
    "\n",
    "test_x = X[-val_size:]\n",
    "test_y = y[-val_size:]\n",
    "\n",
    "print(len(train_x))\n",
    "print(len(train_y))\n",
    "print(len(test_x))\n",
    "print(len(test_y))"
   ]
  },
  {
   "cell_type": "code",
   "execution_count": 8,
   "id": "bd0d8102",
   "metadata": {},
   "outputs": [
    {
     "name": "stderr",
     "output_type": "stream",
     "text": [
      "100%|█████████████████████████████████████████████████████████████████████████████| 225/225 [00:00<00:00, 56321.22it/s]"
     ]
    },
    {
     "name": "stdout",
     "output_type": "stream",
     "text": [
      "0 100\n",
      "100 200\n",
      "200 300\n",
      "300 400\n",
      "400 500\n",
      "500 600\n",
      "600 700\n",
      "700 800\n",
      "800 900\n",
      "900 1000\n",
      "1000 1100\n",
      "1100 1200\n",
      "1200 1300\n",
      "1300 1400\n",
      "1400 1500\n",
      "1500 1600\n",
      "1600 1700\n",
      "1700 1800\n",
      "1800 1900\n",
      "1900 2000\n",
      "2000 2100\n",
      "2100 2200\n",
      "2200 2300\n",
      "2300 2400\n",
      "2400 2500\n",
      "2500 2600\n",
      "2600 2700\n",
      "2700 2800\n",
      "2800 2900\n",
      "2900 3000\n",
      "3000 3100\n",
      "3100 3200\n",
      "3200 3300\n",
      "3300 3400\n",
      "3400 3500\n",
      "3500 3600\n",
      "3600 3700\n",
      "3700 3800\n",
      "3800 3900\n",
      "3900 4000\n",
      "4000 4100\n",
      "4100 4200\n",
      "4200 4300\n",
      "4300 4400\n",
      "4400 4500\n",
      "4500 4600\n",
      "4600 4700\n",
      "4700 4800\n",
      "4800 4900\n",
      "4900 5000\n",
      "5000 5100\n",
      "5100 5200\n",
      "5200 5300\n",
      "5300 5400\n",
      "5400 5500\n",
      "5500 5600\n",
      "5600 5700\n",
      "5700 5800\n",
      "5800 5900\n",
      "5900 6000\n",
      "6000 6100\n",
      "6100 6200\n",
      "6200 6300\n",
      "6300 6400\n",
      "6400 6500\n",
      "6500 6600\n",
      "6600 6700\n",
      "6700 6800\n",
      "6800 6900\n",
      "6900 7000\n",
      "7000 7100\n",
      "7100 7200\n",
      "7200 7300\n",
      "7300 7400\n",
      "7400 7500\n",
      "7500 7600\n",
      "7600 7700\n",
      "7700 7800\n",
      "7800 7900\n",
      "7900 8000\n",
      "8000 8100\n",
      "8100 8200\n",
      "8200 8300\n",
      "8300 8400\n",
      "8400 8500\n",
      "8500 8600\n",
      "8600 8700\n",
      "8700 8800\n",
      "8800 8900\n",
      "8900 9000\n",
      "9000 9100\n",
      "9100 9200\n",
      "9200 9300\n",
      "9300 9400\n",
      "9400 9500\n",
      "9500 9600\n",
      "9600 9700\n",
      "9700 9800\n",
      "9800 9900\n",
      "9900 10000\n",
      "10000 10100\n",
      "10100 10200\n",
      "10200 10300\n",
      "10300 10400\n",
      "10400 10500\n",
      "10500 10600\n",
      "10600 10700\n",
      "10700 10800\n",
      "10800 10900\n",
      "10900 11000\n",
      "11000 11100\n",
      "11100 11200\n",
      "11200 11300\n",
      "11300 11400\n",
      "11400 11500\n",
      "11500 11600\n",
      "11600 11700\n",
      "11700 11800\n",
      "11800 11900\n",
      "11900 12000\n",
      "12000 12100\n",
      "12100 12200\n",
      "12200 12300\n",
      "12300 12400\n",
      "12400 12500\n",
      "12500 12600\n",
      "12600 12700\n",
      "12700 12800\n",
      "12800 12900\n",
      "12900 13000\n",
      "13000 13100\n",
      "13100 13200\n",
      "13200 13300\n",
      "13300 13400\n",
      "13400 13500\n",
      "13500 13600\n",
      "13600 13700\n",
      "13700 13800\n",
      "13800 13900\n",
      "13900 14000\n",
      "14000 14100\n",
      "14100 14200\n",
      "14200 14300\n",
      "14300 14400\n",
      "14400 14500\n",
      "14500 14600\n",
      "14600 14700\n",
      "14700 14800\n",
      "14800 14900\n",
      "14900 15000\n",
      "15000 15100\n",
      "15100 15200\n",
      "15200 15300\n",
      "15300 15400\n",
      "15400 15500\n",
      "15500 15600\n",
      "15600 15700\n",
      "15700 15800\n",
      "15800 15900\n",
      "15900 16000\n",
      "16000 16100\n",
      "16100 16200\n",
      "16200 16300\n",
      "16300 16400\n",
      "16400 16500\n",
      "16500 16600\n",
      "16600 16700\n",
      "16700 16800\n",
      "16800 16900\n",
      "16900 17000\n",
      "17000 17100\n",
      "17100 17200\n",
      "17200 17300\n",
      "17300 17400\n",
      "17400 17500\n",
      "17500 17600\n",
      "17600 17700\n",
      "17700 17800\n",
      "17800 17900\n",
      "17900 18000\n",
      "18000 18100\n",
      "18100 18200\n",
      "18200 18300\n",
      "18300 18400\n",
      "18400 18500\n",
      "18500 18600\n",
      "18600 18700\n",
      "18700 18800\n",
      "18800 18900\n",
      "18900 19000\n",
      "19000 19100\n",
      "19100 19200\n",
      "19200 19300\n",
      "19300 19400\n",
      "19400 19500\n",
      "19500 19600\n",
      "19600 19700\n",
      "19700 19800\n",
      "19800 19900\n",
      "19900 20000\n",
      "20000 20100\n",
      "20100 20200\n",
      "20200 20300\n",
      "20300 20400\n",
      "20400 20500\n",
      "20500 20600\n",
      "20600 20700\n",
      "20700 20800\n",
      "20800 20900\n",
      "20900 21000\n",
      "21000 21100\n",
      "21100 21200\n",
      "21200 21300\n",
      "21300 21400\n",
      "21400 21500\n",
      "21500 21600\n",
      "21600 21700\n",
      "21700 21800\n",
      "21800 21900\n",
      "21900 22000\n",
      "22000 22100\n",
      "22100 22200\n",
      "22200 22300\n",
      "22300 22400\n",
      "22400 22500\n"
     ]
    },
    {
     "name": "stderr",
     "output_type": "stream",
     "text": [
      "\n"
     ]
    }
   ],
   "source": [
    "BATCH_SIZE = 100\n",
    "EPOCHS = 1\n",
    "\n",
    "for epoch in range(EPOCHS):\n",
    "    for i in tqdm(range(0, len(train_x), BATCH_SIZE)):\n",
    "        print (i, i+BATCH_SIZE)\n",
    "    \n",
    "    "
   ]
  },
  {
   "cell_type": "markdown",
   "id": "14830383",
   "metadata": {},
   "source": [
    "The above means for the training, we will be going from the zeroth to the hundredth and so on"
   ]
  },
  {
   "cell_type": "code",
   "execution_count": 9,
   "id": "cce3248b",
   "metadata": {},
   "outputs": [
    {
     "name": "stderr",
     "output_type": "stream",
     "text": [
      "100%|████████████████████████████████████████████████████████████████████████████████| 225/225 [02:27<00:00,  1.53it/s]"
     ]
    },
    {
     "name": "stdout",
     "output_type": "stream",
     "text": [
      "tensor(0.2177, grad_fn=<MseLossBackward0>)\n"
     ]
    },
    {
     "name": "stderr",
     "output_type": "stream",
     "text": [
      "\n"
     ]
    }
   ],
   "source": [
    "BATCH_SIZE = 100\n",
    "EPOCHS = 1\n",
    "\n",
    "for epoch in range(EPOCHS):\n",
    "    for i in tqdm(range(0, len(train_x), BATCH_SIZE)):\n",
    "        batch_x = train_x[i:i+BATCH_SIZE].view(-1,1,50,50)\n",
    "        batch_y = train_y[i:i+BATCH_SIZE]\n",
    "        \n",
    "        net.zero_grad()\n",
    "        # You could also zero the graident of your optimizer if you've gat just one. if you've gat more than one\n",
    "        # you could also specify the optimizer you want to Zero the gtadient.\n",
    "        # e.g optimizer.zero_grad()\n",
    "        \n",
    "        outputs = net(batch_x)\n",
    "        loss = loss_function(outputs, batch_y)\n",
    "        loss.backward()\n",
    "        optimizer.step()\n",
    "        \n",
    "print(loss)\n",
    "        "
   ]
  },
  {
   "cell_type": "code",
   "execution_count": 10,
   "id": "815f6301",
   "metadata": {},
   "outputs": [
    {
     "name": "stderr",
     "output_type": "stream",
     "text": [
      "100%|█████████████████████████████████████████████████████████████████████████████| 2494/2494 [00:07<00:00, 320.61it/s]"
     ]
    },
    {
     "name": "stdout",
     "output_type": "stream",
     "text": [
      "Accuracy:  0.667\n"
     ]
    },
    {
     "name": "stderr",
     "output_type": "stream",
     "text": [
      "\n"
     ]
    }
   ],
   "source": [
    "correct = 0\n",
    "total = 0\n",
    "with torch.no_grad():\n",
    "    for i in tqdm(range(len(test_x))):\n",
    "        real_class = torch.argmax(test_y[i])\n",
    "        net_out = net(test_x[i].view(-1,1,50,50))[0]\n",
    "        predicted_class = torch.argmax(net_out)\n",
    "        if predicted_class == real_class:\n",
    "            correct +=1\n",
    "        total += 1\n",
    "        \n",
    "print(\"Accuracy: \", round(correct/total, 3))\n",
    "            \n",
    "        "
   ]
  },
  {
   "cell_type": "markdown",
   "id": "50fdb41e",
   "metadata": {},
   "source": [
    "# Running on GPU"
   ]
  },
  {
   "cell_type": "code",
   "execution_count": 11,
   "id": "7495dcb5",
   "metadata": {},
   "outputs": [],
   "source": [
    "import torch\n",
    "import torch.nn as nn\n",
    "import torch.nn.functional as F"
   ]
  },
  {
   "cell_type": "code",
   "execution_count": 12,
   "id": "c693dcd2",
   "metadata": {},
   "outputs": [
    {
     "data": {
      "text/plain": [
       "False"
      ]
     },
     "execution_count": 12,
     "metadata": {},
     "output_type": "execute_result"
    }
   ],
   "source": [
    "torch.cuda.is_available()"
   ]
  },
  {
   "cell_type": "code",
   "execution_count": 13,
   "id": "34280936",
   "metadata": {},
   "outputs": [
    {
     "name": "stdout",
     "output_type": "stream",
     "text": [
      "Running on the CPU\n"
     ]
    }
   ],
   "source": [
    "if torch.cuda.is_available(): \n",
    "    device = torch.device('cuda:0')\n",
    "    print('Running on the GPU')\n",
    "else:\n",
    "    device = torch.device('cpu')\n",
    "    print('Running on the CPU')"
   ]
  },
  {
   "cell_type": "code",
   "execution_count": 14,
   "id": "4be0fe9b",
   "metadata": {},
   "outputs": [
    {
     "data": {
      "text/plain": [
       "Net(\n",
       "  (conv1): Conv2d(1, 32, kernel_size=(5, 5), stride=(1, 1))\n",
       "  (conv2): Conv2d(32, 64, kernel_size=(5, 5), stride=(1, 1))\n",
       "  (conv3): Conv2d(64, 128, kernel_size=(5, 5), stride=(1, 1))\n",
       "  (fc1): Linear(in_features=512, out_features=512, bias=True)\n",
       "  (fc2): Linear(in_features=512, out_features=2, bias=True)\n",
       ")"
      ]
     },
     "execution_count": 14,
     "metadata": {},
     "output_type": "execute_result"
    }
   ],
   "source": [
    "net.to(device)"
   ]
  },
  {
   "cell_type": "code",
   "execution_count": 15,
   "id": "481273c4",
   "metadata": {},
   "outputs": [
    {
     "name": "stderr",
     "output_type": "stream",
     "text": [
      "100%|████████████████████████████████████████████████████████████████████████████████| 225/225 [02:35<00:00,  1.45it/s]\n"
     ]
    },
    {
     "name": "stdout",
     "output_type": "stream",
     "text": [
      "Ephoch: 0, Loss: 0.21728697419166565\n"
     ]
    },
    {
     "name": "stderr",
     "output_type": "stream",
     "text": [
      "100%|████████████████████████████████████████████████████████████████████████████████| 225/225 [02:25<00:00,  1.55it/s]\n"
     ]
    },
    {
     "name": "stdout",
     "output_type": "stream",
     "text": [
      "Ephoch: 1, Loss: 0.19797588884830475\n"
     ]
    },
    {
     "name": "stderr",
     "output_type": "stream",
     "text": [
      "100%|████████████████████████████████████████████████████████████████████████████████| 225/225 [02:48<00:00,  1.33it/s]\n"
     ]
    },
    {
     "name": "stdout",
     "output_type": "stream",
     "text": [
      "Ephoch: 2, Loss: 0.18130278587341309\n"
     ]
    },
    {
     "name": "stderr",
     "output_type": "stream",
     "text": [
      "100%|████████████████████████████████████████████████████████████████████████████████| 225/225 [02:48<00:00,  1.33it/s]\n"
     ]
    },
    {
     "name": "stdout",
     "output_type": "stream",
     "text": [
      "Ephoch: 3, Loss: 0.14078746736049652\n"
     ]
    },
    {
     "name": "stderr",
     "output_type": "stream",
     "text": [
      "100%|████████████████████████████████████████████████████████████████████████████████| 225/225 [02:49<00:00,  1.33it/s]"
     ]
    },
    {
     "name": "stdout",
     "output_type": "stream",
     "text": [
      "Ephoch: 4, Loss: 0.14096102118492126\n"
     ]
    },
    {
     "name": "stderr",
     "output_type": "stream",
     "text": [
      "\n"
     ]
    }
   ],
   "source": [
    "def train(net):\n",
    "    \n",
    "    BATCH_SIZE = 100\n",
    "    EPOCHS = 5\n",
    "    \n",
    "    optimizer = optim.Adam(net.parameters(), lr=0.001)\n",
    "\n",
    "    loss_function = nn.MSELoss()\n",
    "\n",
    "    for epoch in range(EPOCHS):\n",
    "        for i in tqdm(range(0, len(train_x), BATCH_SIZE)):\n",
    "            batch_x = train_x[i:i+BATCH_SIZE].view(-1,1,50,50)\n",
    "            batch_y = train_y[i:i+BATCH_SIZE]\n",
    "            \n",
    "            batch_x, batch_y = batch_x.to(device), batch_y.to(device)\n",
    "            \n",
    "            net.zero_grad()\n",
    "            # You could also zero the graident of your optimizer if you've gat just one. if you've gat more than one\n",
    "            # you could also specify the optimizer you want to Zero the gtadient.\n",
    "            # e.g optimizer.zero_grad()\n",
    "\n",
    "            outputs = net(batch_x)\n",
    "            loss = loss_function(outputs, batch_y)\n",
    "            loss.backward()\n",
    "            optimizer.step()\n",
    "            \n",
    "        print(f\"Ephoch: {epoch}, Loss: {loss}\")\n",
    "\n",
    "train(net)\n",
    "        \n"
   ]
  },
  {
   "cell_type": "code",
   "execution_count": 16,
   "id": "a082b02d",
   "metadata": {},
   "outputs": [
    {
     "name": "stderr",
     "output_type": "stream",
     "text": [
      "100%|█████████████████████████████████████████████████████████████████████████████| 2494/2494 [00:06<00:00, 360.68it/s]"
     ]
    },
    {
     "name": "stdout",
     "output_type": "stream",
     "text": [
      "Accuracy:  0.759\n"
     ]
    },
    {
     "name": "stderr",
     "output_type": "stream",
     "text": [
      "\n"
     ]
    }
   ],
   "source": [
    "def test(net):\n",
    "    \n",
    "    correct = 0\n",
    "    total = 0\n",
    "    with torch.no_grad():\n",
    "        for i in tqdm(range(len(test_x))):\n",
    "            real_class = torch.argmax(test_y[i]).to(device)\n",
    "            net_out = net(test_x[i].view(-1,1,50,50).to(device))[0]\n",
    "            predicted_class = torch.argmax(net_out)\n",
    "            if predicted_class == real_class:\n",
    "                correct +=1\n",
    "            total += 1\n",
    "\n",
    "    print(\"Accuracy: \", round(correct/total, 3))\n",
    "\n",
    "test(net)"
   ]
  },
  {
   "cell_type": "markdown",
   "id": "e63412b7",
   "metadata": {},
   "source": [
    "## Model Aanlysis"
   ]
  },
  {
   "cell_type": "code",
   "execution_count": 27,
   "id": "23db3637",
   "metadata": {},
   "outputs": [],
   "source": [
    "import time"
   ]
  },
  {
   "cell_type": "code",
   "execution_count": 20,
   "id": "5708ebf4",
   "metadata": {},
   "outputs": [
    {
     "name": "stdout",
     "output_type": "stream",
     "text": [
      "0.8125 tensor(0.1496)\n"
     ]
    }
   ],
   "source": [
    "def fwd_pass(X, y, train = False):\n",
    "    if train:\n",
    "        net.zero_grad()\n",
    "    outputs = net(X)\n",
    "    matches = [torch.argmax(i) == torch.argmax(j) for i, j in zip(outputs, y)]\n",
    "    acc = matches.count(True)/len(matches)\n",
    "    loss = loss_function(outputs, y)\n",
    "    \n",
    "    if train:\n",
    "        loss.backward()\n",
    "        optimizer.step()\n",
    "        \n",
    "    return acc, loss\n",
    "\n",
    "\n",
    "\n",
    "def test(size =32):\n",
    "    random_start = np.random.randint(len(test_x)-size)\n",
    "    X, y = test_x[random_start:random_start+size], test_y[random_start:random_start+size]\n",
    "    with torch.no_grad():\n",
    "        val_acc, val_loss = fwd_pass(X.view(-1,1,50,50).to(device), y.to(device))\n",
    "    return  val_acc, val_loss\n",
    "\n",
    "val_acc, val_loss = test(size = 32)\n",
    "print(val_acc, val_loss)\n",
    "    "
   ]
  },
  {
   "cell_type": "code",
   "execution_count": 25,
   "id": "d6e084fb",
   "metadata": {},
   "outputs": [
    {
     "name": "stdout",
     "output_type": "stream",
     "text": [
      "model-1693255432\n"
     ]
    },
    {
     "name": "stderr",
     "output_type": "stream",
     "text": [
      "100%|████████████████████████████████████████████████████████████████████████████████| 225/225 [03:34<00:00,  1.05it/s]\n",
      "100%|████████████████████████████████████████████████████████████████████████████████| 225/225 [03:39<00:00,  1.02it/s]\n"
     ]
    }
   ],
   "source": [
    "import time\n",
    "\n",
    "Model_name = f'model-{int(time.time())}'\n",
    "\n",
    "net = Net().to(device)\n",
    "\n",
    "optimizer = optim.Adam(net.parameters(), lr=0.001)\n",
    "loss_function = nn.MSELoss()\n",
    "\n",
    "print(Model_name)\n",
    "\n",
    "def train():\n",
    "    BATCH_SIZE = 100\n",
    "    EPOCHS = 2\n",
    "    with open('model.log', \"a\") as f:\n",
    "        for epoch in range(EPOCHS):\n",
    "            for i in tqdm(range(0, len(train_x), BATCH_SIZE)):\n",
    "                batch_x = train_x[i:i+BATCH_SIZE].view(-1,1,50,50).to(device)\n",
    "                batch_y = train_y[i:i+BATCH_SIZE].to(device)\n",
    "                \n",
    "                acc, loss = fwd_pass(batch_x, batch_y, train =True)\n",
    "                if i % 50 == 0:\n",
    "                    val_acc, val_loss = test(size=100)\n",
    "                    f.write(f'{Model_name}, {round(time.time(), 3)}, {round(float(acc),2)}, {round(float(loss),2)}, {round(float(val_acc),2)}, {round(float(val_loss),2)}\\n')\n",
    "                    \n",
    "train()\n"
   ]
  },
  {
   "cell_type": "code",
   "execution_count": 37,
   "id": "d5b53d5d",
   "metadata": {},
   "outputs": [
    {
     "name": "stdout",
     "output_type": "stream",
     "text": [
      "model-1693259043\n"
     ]
    },
    {
     "name": "stderr",
     "output_type": "stream",
     "text": [
      "100%|████████████████████████████████████████████████████████████████████████████████| 225/225 [03:43<00:00,  1.01it/s]\n"
     ]
    },
    {
     "name": "stdout",
     "output_type": "stream",
     "text": [
      "Epoch: 1, Training Accuracy: 0.67, Training Loss: 0.2, Testing Accuracy: 0.64, Testing Loss: 0.2\n",
      "\n"
     ]
    },
    {
     "name": "stderr",
     "output_type": "stream",
     "text": [
      "100%|████████████████████████████████████████████████████████████████████████████████| 225/225 [03:28<00:00,  1.08it/s]\n"
     ]
    },
    {
     "name": "stdout",
     "output_type": "stream",
     "text": [
      "Epoch: 2, Training Accuracy: 0.77, Training Loss: 0.18, Testing Accuracy: 0.79, Testing Loss: 0.16\n",
      "\n"
     ]
    },
    {
     "name": "stderr",
     "output_type": "stream",
     "text": [
      "100%|████████████████████████████████████████████████████████████████████████████████| 225/225 [03:23<00:00,  1.10it/s]\n"
     ]
    },
    {
     "name": "stdout",
     "output_type": "stream",
     "text": [
      "Epoch: 3, Training Accuracy: 0.77, Training Loss: 0.15, Testing Accuracy: 0.77, Testing Loss: 0.16\n",
      "\n"
     ]
    },
    {
     "name": "stderr",
     "output_type": "stream",
     "text": [
      "100%|████████████████████████████████████████████████████████████████████████████████| 225/225 [03:37<00:00,  1.04it/s]\n"
     ]
    },
    {
     "name": "stdout",
     "output_type": "stream",
     "text": [
      "Epoch: 4, Training Accuracy: 0.81, Training Loss: 0.14, Testing Accuracy: 0.75, Testing Loss: 0.2\n",
      "\n"
     ]
    },
    {
     "name": "stderr",
     "output_type": "stream",
     "text": [
      "100%|████████████████████████████████████████████████████████████████████████████████| 225/225 [03:58<00:00,  1.06s/it]"
     ]
    },
    {
     "name": "stdout",
     "output_type": "stream",
     "text": [
      "Epoch: 5, Training Accuracy: 0.85, Training Loss: 0.13, Testing Accuracy: 0.84, Testing Loss: 0.12\n",
      "\n"
     ]
    },
    {
     "name": "stderr",
     "output_type": "stream",
     "text": [
      "\n"
     ]
    }
   ],
   "source": [
    "import time\n",
    "\n",
    "Model_name = f'model-{int(time.time())}'\n",
    "\n",
    "net = Net().to(device)\n",
    "\n",
    "optimizer = optim.Adam(net.parameters(), lr=0.001)\n",
    "loss_function = nn.MSELoss()\n",
    "\n",
    "print(Model_name)\n",
    "\n",
    "train_losses = []\n",
    "val_losses = []\n",
    "\n",
    "def train():\n",
    "    BATCH_SIZE = 100\n",
    "    EPOCHS = 5\n",
    "    for epoch in range(EPOCHS):\n",
    "        for i in tqdm(range(0, len(train_x), BATCH_SIZE)):\n",
    "            batch_x = train_x[i:i+BATCH_SIZE].view(-1,1,50,50).to(device)\n",
    "            batch_y = train_y[i:i+BATCH_SIZE].to(device)\n",
    "\n",
    "            acc, loss = fwd_pass(batch_x, batch_y, train =True)\n",
    "            if i % 50 == 0:\n",
    "                val_acc, val_loss = test(size=100)\n",
    "                \n",
    "        train_losses.append(loss)\n",
    "        val_losses.append(val_loss)\n",
    "        \n",
    "        print(f\"Epoch: {epoch+1}, \"\n",
    "                      f\"Training Accuracy: {round(float(acc), 2)}, \"\n",
    "                      f\"Training Loss: {round(float(loss), 2)}, \"\n",
    "                      f\"Testing Accuracy: {round(float(val_acc), 2)}, \"\n",
    "                      f\"Testing Loss: {round(float(val_loss), 2)}\\n\")\n",
    "\n",
    "\n",
    "train()\n"
   ]
  },
  {
   "cell_type": "code",
   "execution_count": 42,
   "id": "9dde8c08",
   "metadata": {},
   "outputs": [
    {
     "data": {
      "text/plain": [
       "<matplotlib.legend.Legend at 0x20b8f7e6150>"
      ]
     },
     "execution_count": 42,
     "metadata": {},
     "output_type": "execute_result"
    },
    {
     "data": {
      "image/png": "[encoded data removed]",
      "text/plain": [
       "<Figure size 640x480 with 1 Axes>"
      ]
     },
     "metadata": {
      "image/png": {
       "height": 413,
       "width": 556
      }
     },
     "output_type": "display_data"
    }
   ],
   "source": [
    "%matplotlib inline\n",
    "%config InlineBackend.figure_format = 'retina'\n",
    "\n",
    "import matplotlib.pyplot as plt\n",
    "\n",
    "# Convert tensors to NumPy arrays using detach()\n",
    "training_loss = [float(loss_item.detach()) for loss_item in train_losses]\n",
    "validation_loss = [float(val_loss_item.detach()) for val_loss_item in val_losses]\n",
    "\n",
    "\n",
    "plt.plot(training_loss, label='Training loss')\n",
    "plt.plot(validation_loss, label='Validation loss')\n",
    "plt.legend(frameon=False)"
   ]
  },
  {
   "cell_type": "code",
   "execution_count": null,
   "id": "2ec0cbe6",
   "metadata": {},
   "outputs": [],
   "source": []
  }
 ],
 "metadata": {
  "kernelspec": {
   "display_name": "Python 3 (ipykernel)",
   "language": "python",
   "name": "python3"
  },
  "language_info": {
   "codemirror_mode": {
    "name": "ipython",
    "version": 3
   },
   "file_extension": ".py",
   "mimetype": "text/x-python",
   "name": "python",
   "nbconvert_exporter": "python",
   "pygments_lexer": "ipython3",
   "version": "3.11.3"
  }
 },
 "nbformat": 4,
 "nbformat_minor": 5
}
