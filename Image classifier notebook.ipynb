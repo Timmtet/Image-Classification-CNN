{
 "cells": [
  {
   "cell_type": "code",
   "execution_count": 7,
   "id": "618409b5",
   "metadata": {},
   "outputs": [],
   "source": [
    "import os\n",
    "import cv2\n",
    "import numpy as np\n",
    "from tqdm import tqdm\n",
    "import pickle\n",
    "import time"
   ]
  },
  {
   "cell_type": "code",
   "execution_count": 2,
   "id": "cf37073c",
   "metadata": {},
   "outputs": [
    {
     "name": "stdout",
     "output_type": "stream",
     "text": [
      "C:/Users/user/Downloads/Timmtet/Projects/Deep learning/CNN/kagglecatsanddogs_5340/PetImages/Cat\n"
     ]
    },
    {
     "name": "stderr",
     "output_type": "stream",
     "text": [
      "100%|████████████████████████████████████████████████████████████████████████████| 12501/12501 [02:36<00:00, 79.96it/s]\n"
     ]
    },
    {
     "name": "stdout",
     "output_type": "stream",
     "text": [
      "C:/Users/user/Downloads/Timmtet/Projects/Deep learning/CNN/kagglecatsanddogs_5340/PetImages/Dog\n"
     ]
    },
    {
     "name": "stderr",
     "output_type": "stream",
     "text": [
      "100%|████████████████████████████████████████████████████████████████████████████| 12501/12501 [02:33<00:00, 81.35it/s]\n"
     ]
    },
    {
     "name": "stdout",
     "output_type": "stream",
     "text": [
      "Cats:  12476\n",
      "Dogs:  12470\n"
     ]
    }
   ],
   "source": [
    "REBUILD_DATA = True\n",
    "\n",
    "class DogsVSCats():\n",
    "    img_size = 50\n",
    "    cats = \"C:/Users/user/Downloads/Timmtet/Projects/Deep learning/CNN/kagglecatsanddogs_5340/PetImages/Cat\"\n",
    "    dogs = \"C:/Users/user/Downloads/Timmtet/Projects/Deep learning/CNN/kagglecatsanddogs_5340/PetImages/Dog\"\n",
    "    labels = {cats : 0, dogs:1}\n",
    "    training_data = []\n",
    "    cat_count = 0\n",
    "    dog_count = 0\n",
    "    \n",
    "    \n",
    "    def making_training_data(self):\n",
    "        for label in self.labels:\n",
    "            print(label)\n",
    "            for f in tqdm(os.listdir(label)):\n",
    "                try:\n",
    "                    path = os.path.join(label,f)\n",
    "                    img = cv2.imread(path, cv2.IMREAD_GRAYSCALE)\n",
    "                    img = cv2.resize(img, (self.img_size, self.img_size))\n",
    "                    self.training_data.append([np.array(img), np.eye(2)[self.labels[label]]])\n",
    "                    #self.training_data.append([np.array(img), self.labels[label]])\n",
    "\n",
    "                    if label == self.cats:\n",
    "                        self.cat_count +=1\n",
    "                    elif label == self.dogs:\n",
    "                        self.dog_count +=1\n",
    "                        \n",
    "                except Exception as e:\n",
    "                    pass\n",
    "                \n",
    "        np.random.shuffle(self.training_data)\n",
    "        #np.save(\"training_data.npy\", self.training_data)\n",
    "        with open(\"training_data.pkl\", \"wb\") as f:\n",
    "            pickle.dump(self.training_data, f)\n",
    "        \n",
    "        print(\"Cats: \", self.cat_count)\n",
    "        print(\"Dogs: \", self.dog_count)\n",
    "        \n",
    "if REBUILD_DATA:\n",
    "    dogsvcats = DogsVSCats()\n",
    "    dogsvcats.making_training_data()"
   ]
  },
  {
   "cell_type": "markdown",
   "id": "09192c5c",
   "metadata": {},
   "source": [
    "Now we run this script to determine the input size for the dense/linear layer"
   ]
  },
  {
   "cell_type": "code",
   "execution_count": 3,
   "id": "f8aed59a",
   "metadata": {},
   "outputs": [
    {
     "name": "stdout",
     "output_type": "stream",
     "text": [
      "torch.Size([128, 2, 2])\n"
     ]
    }
   ],
   "source": [
    "import torch\n",
    "import torch.nn as nn\n",
    "import torch.nn.functional as F\n",
    "\n",
    "class Net(nn.Module):\n",
    "    def __init__(self):\n",
    "        super().__init__()\n",
    "        #(input, output, cornel size(5*5))\n",
    "        self.conv1 = nn.Conv2d(1,32, 5)\n",
    "        self.conv2 = nn.Conv2d(32,64, 5)\n",
    "        self.conv3 = nn.Conv2d(64,128, 5)\n",
    "        \n",
    "        \n",
    "        x = torch.randn(50,50).view(-1,1,50,50)\n",
    "        self._to_linear = None\n",
    "        self.convs(x)\n",
    "        \n",
    "        self.fc1 = nn.Linear(self._to_linear, 512)\n",
    "        self.fc2 = nn.Linear(512,2)\n",
    "        \n",
    "    def convs(self, x):\n",
    "        #(2,2) is the shape of the max pooling\n",
    "        x = F.max_pool2d(F.relu(self.conv1(x)), (2,2))\n",
    "        x = F.max_pool2d(F.relu(self.conv2(x)), (2,2))\n",
    "        x = F.max_pool2d(F.relu(self.conv3(x)), (2,2))\n",
    "        \n",
    "        \n",
    "        # This print statement will give us the shape of input for the dense/linear layer\n",
    "        print(x[0].shape)\n",
    "        \n",
    "        if self._to_linear is None:\n",
    "            self._to_linear = x[0].shape[0] * x[0].shape[1] * x[0].shape[2]\n",
    "        \n",
    "        return x\n",
    "    \n",
    "    def forward(self,x):\n",
    "        x = self.convs(x)                  # we pass x through all the convolutional layers\n",
    "        x =x.view(-1, self._to_linear )    # we flatten the output of the convolution layer. self._to_linear is the input shape of\n",
    "                                            # of the linear layer we are trying to linear year.\n",
    "        x = F.relu(self.fc1(x))\n",
    "        x = self.fc2(x)\n",
    "        \n",
    "        return F.softmax(x, dim=1)\n",
    "             \n",
    "net = Net() \n",
    "    \n",
    "        \n",
    "        \n",
    "        "
   ]
  },
  {
   "cell_type": "markdown",
   "id": "db4c7186",
   "metadata": {},
   "source": [
    "Niw we will re-run the script with the exact |imput size"
   ]
  },
  {
   "cell_type": "code",
   "execution_count": 5,
   "id": "b49f6336",
   "metadata": {},
   "outputs": [],
   "source": [
    "import torch\n",
    "import torch.nn as nn\n",
    "import torch.nn.functional as F\n",
    "\n",
    "class Net(nn.Module):\n",
    "    def __init__(self):\n",
    "        super().__init__()\n",
    "        #(input, output, cornel size(5*5))\n",
    "        self.conv1 = nn.Conv2d(1,32, 5)\n",
    "        self.conv2 = nn.Conv2d(32,64, 5)\n",
    "        self.conv3 = nn.Conv2d(64,128, 5)\n",
    "        \n",
    "        self.fc1 = nn.Linear(2*2*128, 512)\n",
    "        self.fc2 = nn.Linear(512,2)\n",
    "        \n",
    "    def convs(self, x):\n",
    "        #(2,2) is the shape of the max pooling\n",
    "        x = F.max_pool2d(F.relu(self.conv1(x)), (2,2))\n",
    "        x = F.max_pool2d(F.relu(self.conv2(x)), (2,2))\n",
    "        x = F.max_pool2d(F.relu(self.conv3(x)), (2,2))\n",
    "        \n",
    "        return x\n",
    "    \n",
    "    def forward(self,x):\n",
    "        x = self.convs(x)                  \n",
    "        x =x.view(-1,2*2*128)   \n",
    "        x = F.relu(self.fc1(x))\n",
    "        x = self.fc2(x)\n",
    "        \n",
    "        return F.softmax(x, dim=1)\n",
    "             \n",
    "net = Net() \n",
    "    \n",
    "        \n",
    "        \n",
    "        "
   ]
  },
  {
   "cell_type": "code",
   "execution_count": 6,
   "id": "9421f88d",
   "metadata": {},
   "outputs": [
    {
     "name": "stderr",
     "output_type": "stream",
     "text": [
      "C:\\Users\\user\\AppData\\Local\\Temp\\ipykernel_15176\\3472780919.py:9: UserWarning: Creating a tensor from a list of numpy.ndarrays is extremely slow. Please consider converting the list to a single numpy.ndarray with numpy.array() before converting to a tensor. (Triggered internally at ..\\torch\\csrc\\utils\\tensor_new.cpp:248.)\n",
      "  X  = torch.Tensor([i[0] for i in training_data]).view(-1,50,50)\n"
     ]
    },
    {
     "name": "stdout",
     "output_type": "stream",
     "text": [
      "2494\n"
     ]
    }
   ],
   "source": [
    "training_data = np.load(\"training_data.pkl\", allow_pickle=True)\n",
    "\n",
    "import torch.optim as optim\n",
    "\n",
    "optimizer = optim.Adam(net.parameters(), lr=0.001)\n",
    "\n",
    "loss_function = nn.MSELoss()\n",
    "\n",
    "X  = torch.Tensor([i[0] for i in training_data]).view(-1,50,50)\n",
    "X = X/225.0\n",
    "\n",
    "y  = torch.Tensor([i[1] for i in training_data])\n",
    "\n",
    "\n",
    "VAL_PCT = 0.1\n",
    "val_size = int(len(X)*VAL_PCT)\n",
    "print(val_size)"
   ]
  },
  {
   "cell_type": "code",
   "execution_count": 9,
   "id": "5f85835a",
   "metadata": {},
   "outputs": [
    {
     "name": "stdout",
     "output_type": "stream",
     "text": [
      "22452\n",
      "22452\n",
      "2494\n",
      "2494\n"
     ]
    }
   ],
   "source": [
    "train_x = X[:-val_size]\n",
    "train_y = y[:-val_size]\n",
    "\n",
    "test_x = X[-val_size:]\n",
    "test_y = y[-val_size:]\n",
    "\n",
    "print(len(train_x))\n",
    "print(len(train_y))\n",
    "print(len(test_x))\n",
    "print(len(test_y))"
   ]
  },
  {
   "cell_type": "code",
   "execution_count": 11,
   "id": "ba18296e",
   "metadata": {},
   "outputs": [
    {
     "name": "stdout",
     "output_type": "stream",
     "text": [
      "Running on the CPU\n"
     ]
    }
   ],
   "source": [
    "if torch.cuda.is_available(): \n",
    "    device = torch.device('cuda:0')\n",
    "    print('Running on the GPU')\n",
    "else:\n",
    "    device = torch.device('cpu')\n",
    "    print('Running on the CPU')"
   ]
  },
  {
   "cell_type": "code",
   "execution_count": 12,
   "id": "4ce63820",
   "metadata": {},
   "outputs": [
    {
     "name": "stdout",
     "output_type": "stream",
     "text": [
      "0.65625 tensor(0.2485)\n"
     ]
    }
   ],
   "source": [
    "def fwd_pass(X, y, train = False):\n",
    "    if train:\n",
    "        net.zero_grad()\n",
    "    outputs = net(X)\n",
    "    matches = [torch.argmax(i) == torch.argmax(j) for i, j in zip(outputs, y)]\n",
    "    acc = matches.count(True)/len(matches)\n",
    "    loss = loss_function(outputs, y)\n",
    "    \n",
    "    if train:\n",
    "        loss.backward()\n",
    "        optimizer.step()\n",
    "        \n",
    "    return acc, loss\n",
    "\n",
    "\n",
    "\n",
    "def test(size =32):\n",
    "    random_start = np.random.randint(len(test_x)-size)\n",
    "    X, y = test_x[random_start:random_start+size], test_y[random_start:random_start+size]\n",
    "    with torch.no_grad():\n",
    "        val_acc, val_loss = fwd_pass(X.view(-1,1,50,50).to(device), y.to(device))\n",
    "    return  val_acc, val_loss\n",
    "\n",
    "val_acc, val_loss = test(size = 32)\n",
    "print(val_acc, val_loss)\n",
    "    "
   ]
  },
  {
   "cell_type": "code",
   "execution_count": 13,
   "id": "d3635206",
   "metadata": {},
   "outputs": [
    {
     "name": "stdout",
     "output_type": "stream",
     "text": [
      "model-1693518351\n"
     ]
    },
    {
     "name": "stderr",
     "output_type": "stream",
     "text": [
      "100%|████████████████████████████████████████████████████████████████████████████████| 225/225 [03:23<00:00,  1.11it/s]\n"
     ]
    },
    {
     "name": "stdout",
     "output_type": "stream",
     "text": [
      "Epoch: 1, Training Accuracy: 0.71, Training Loss: 0.22, Testing Accuracy: 0.6, Testing Loss: 0.23\n",
      "\n"
     ]
    },
    {
     "name": "stderr",
     "output_type": "stream",
     "text": [
      "100%|████████████████████████████████████████████████████████████████████████████████| 225/225 [03:32<00:00,  1.06it/s]\n"
     ]
    },
    {
     "name": "stdout",
     "output_type": "stream",
     "text": [
      "Epoch: 2, Training Accuracy: 0.79, Training Loss: 0.16, Testing Accuracy: 0.77, Testing Loss: 0.17\n",
      "\n"
     ]
    },
    {
     "name": "stderr",
     "output_type": "stream",
     "text": [
      "100%|████████████████████████████████████████████████████████████████████████████████| 225/225 [03:55<00:00,  1.04s/it]\n"
     ]
    },
    {
     "name": "stdout",
     "output_type": "stream",
     "text": [
      "Epoch: 3, Training Accuracy: 0.9, Training Loss: 0.11, Testing Accuracy: 0.77, Testing Loss: 0.16\n",
      "\n"
     ]
    },
    {
     "name": "stderr",
     "output_type": "stream",
     "text": [
      "100%|████████████████████████████████████████████████████████████████████████████████| 225/225 [03:47<00:00,  1.01s/it]\n"
     ]
    },
    {
     "name": "stdout",
     "output_type": "stream",
     "text": [
      "Epoch: 4, Training Accuracy: 0.88, Training Loss: 0.09, Testing Accuracy: 0.78, Testing Loss: 0.16\n",
      "\n"
     ]
    },
    {
     "name": "stderr",
     "output_type": "stream",
     "text": [
      "100%|████████████████████████████████████████████████████████████████████████████████| 225/225 [04:35<00:00,  1.22s/it]\n"
     ]
    },
    {
     "name": "stdout",
     "output_type": "stream",
     "text": [
      "Epoch: 5, Training Accuracy: 0.9, Training Loss: 0.08, Testing Accuracy: 0.82, Testing Loss: 0.13\n",
      "\n"
     ]
    },
    {
     "name": "stderr",
     "output_type": "stream",
     "text": [
      "100%|████████████████████████████████████████████████████████████████████████████████| 225/225 [03:59<00:00,  1.07s/it]\n"
     ]
    },
    {
     "name": "stdout",
     "output_type": "stream",
     "text": [
      "Epoch: 6, Training Accuracy: 0.92, Training Loss: 0.07, Testing Accuracy: 0.8, Testing Loss: 0.14\n",
      "\n"
     ]
    },
    {
     "name": "stderr",
     "output_type": "stream",
     "text": [
      "100%|████████████████████████████████████████████████████████████████████████████████| 225/225 [03:34<00:00,  1.05it/s]\n"
     ]
    },
    {
     "name": "stdout",
     "output_type": "stream",
     "text": [
      "Epoch: 7, Training Accuracy: 0.88, Training Loss: 0.06, Testing Accuracy: 0.72, Testing Loss: 0.19\n",
      "\n"
     ]
    },
    {
     "name": "stderr",
     "output_type": "stream",
     "text": [
      "100%|████████████████████████████████████████████████████████████████████████████████| 225/225 [03:32<00:00,  1.06it/s]\n"
     ]
    },
    {
     "name": "stdout",
     "output_type": "stream",
     "text": [
      "Epoch: 8, Training Accuracy: 0.92, Training Loss: 0.06, Testing Accuracy: 0.78, Testing Loss: 0.16\n",
      "\n"
     ]
    },
    {
     "name": "stderr",
     "output_type": "stream",
     "text": [
      "100%|████████████████████████████████████████████████████████████████████████████████| 225/225 [03:38<00:00,  1.03it/s]\n"
     ]
    },
    {
     "name": "stdout",
     "output_type": "stream",
     "text": [
      "Epoch: 9, Training Accuracy: 0.92, Training Loss: 0.04, Testing Accuracy: 0.74, Testing Loss: 0.19\n",
      "\n"
     ]
    },
    {
     "name": "stderr",
     "output_type": "stream",
     "text": [
      "100%|████████████████████████████████████████████████████████████████████████████████| 225/225 [03:36<00:00,  1.04it/s]"
     ]
    },
    {
     "name": "stdout",
     "output_type": "stream",
     "text": [
      "Epoch: 10, Training Accuracy: 0.96, Training Loss: 0.05, Testing Accuracy: 0.67, Testing Loss: 0.26\n",
      "\n"
     ]
    },
    {
     "name": "stderr",
     "output_type": "stream",
     "text": [
      "\n"
     ]
    }
   ],
   "source": [
    "import time\n",
    "\n",
    "Model_name = f'model-{int(time.time())}'\n",
    "\n",
    "net = Net().to(device)\n",
    "\n",
    "optimizer = optim.Adam(net.parameters(), lr=0.001)\n",
    "loss_function = nn.MSELoss()\n",
    "\n",
    "print(Model_name)\n",
    "\n",
    "train_losses = []\n",
    "val_losses = []\n",
    "\n",
    "def train():\n",
    "    BATCH_SIZE = 100\n",
    "    EPOCHS = 10\n",
    "    for epoch in range(EPOCHS):\n",
    "        for i in tqdm(range(0, len(train_x), BATCH_SIZE)):\n",
    "            batch_x = train_x[i:i+BATCH_SIZE].view(-1,1,50,50).to(device)\n",
    "            batch_y = train_y[i:i+BATCH_SIZE].to(device)\n",
    "\n",
    "            acc, loss = fwd_pass(batch_x, batch_y, train =True)\n",
    "            if i % 50 == 0:\n",
    "                val_acc, val_loss = test(size=100)\n",
    "                \n",
    "        train_losses.append(loss)\n",
    "        val_losses.append(val_loss)\n",
    "        \n",
    "        print(f\"Epoch: {epoch+1}, \"\n",
    "                      f\"Training Accuracy: {round(float(acc), 2)}, \"\n",
    "                      f\"Training Loss: {round(float(loss), 2)}, \"\n",
    "                      f\"Testing Accuracy: {round(float(val_acc), 2)}, \"\n",
    "                      f\"Testing Loss: {round(float(val_loss), 2)}\\n\")\n",
    "\n",
    "\n",
    "train()\n"
   ]
  },
  {
   "cell_type": "code",
   "execution_count": 14,
   "id": "af1e2c24",
   "metadata": {},
   "outputs": [
    {
     "data": {
      "text/plain": [
       "<matplotlib.legend.Legend at 0x247eb1a7a90>"
      ]
     },
     "execution_count": 14,
     "metadata": {},
     "output_type": "execute_result"
    },
    {
     "data": {
      "image/png": "[encoded data removed]",
      "text/plain": [
       "<Figure size 640x480 with 1 Axes>"
      ]
     },
     "metadata": {
      "image/png": {
       "height": 413,
       "width": 556
      }
     },
     "output_type": "display_data"
    }
   ],
   "source": [
    "%matplotlib inline\n",
    "%config InlineBackend.figure_format = 'retina'\n",
    "\n",
    "import matplotlib.pyplot as plt\n",
    "\n",
    "# Convert tensors to NumPy arrays using detach()\n",
    "training_loss = [float(loss_item.detach()) for loss_item in train_losses]\n",
    "validation_loss = [float(val_loss_item.detach()) for val_loss_item in val_losses]\n",
    "\n",
    "\n",
    "plt.plot(training_loss, label='Training loss')\n",
    "plt.plot(validation_loss, label='Validation loss')\n",
    "plt.legend(frameon=False)"
   ]
  },
  {
   "cell_type": "code",
   "execution_count": null,
   "id": "e5bd6830",
   "metadata": {},
   "outputs": [],
   "source": []
  }
 ],
 "metadata": {
  "kernelspec": {
   "display_name": "Python 3 (ipykernel)",
   "language": "python",
   "name": "python3"
  },
  "language_info": {
   "codemirror_mode": {
    "name": "ipython",
    "version": 3
   },
   "file_extension": ".py",
   "mimetype": "text/x-python",
   "name": "python",
   "nbconvert_exporter": "python",
   "pygments_lexer": "ipython3",
   "version": "3.11.3"
  }
 },
 "nbformat": 4,
 "nbformat_minor": 5
}
